{
 "cells": [
  {
   "cell_type": "markdown",
   "id": "63d67649",
   "metadata": {},
   "source": [
    "1.1 Write a Python Program to implement your own myreduce() function which works exactly like Python's built-in functi"
   ]
  },
  {
   "cell_type": "code",
   "execution_count": 1,
   "id": "0ba025ea",
   "metadata": {},
   "outputs": [],
   "source": [
    "def myreduce(fun,l):\n",
    "    if str(type(fun))==\"<class 'function'>\": \n",
    "        try:\n",
    "            iterator = iter(l)\n",
    "            result = l[0]\n",
    "            for i in l[1:]:\n",
    "                result=fun(result,i)\n",
    "            return result\n",
    "        except TypeError as te:\n",
    "            print(l, 'is not iterable')\n",
    "    else:\n",
    "        print('First argument should be function')\n"
   ]
  },
  {
   "cell_type": "code",
   "execution_count": 2,
   "id": "ea256649",
   "metadata": {},
   "outputs": [
    {
     "data": {
      "text/plain": [
       "14"
      ]
     },
     "execution_count": 2,
     "metadata": {},
     "output_type": "execute_result"
    }
   ],
   "source": [
    "l =[2,3,4,5]\n",
    "def sumoflist(a,b):\n",
    "    return a+b\n",
    "    \n",
    "myreduce(sumoflist ,l)"
   ]
  },
  {
   "cell_type": "markdown",
   "id": "5abe09b8",
   "metadata": {},
   "source": [
    "1.2 Write a Python program to implement your own myfilter() function which works exactly  like Python's built-in function filter() \n",
    "    "
   ]
  },
  {
   "cell_type": "code",
   "execution_count": 29,
   "id": "6836425b",
   "metadata": {},
   "outputs": [],
   "source": [
    "def myfilter(FunOrNone,iterable):\n",
    "    l1=[]\n",
    "    if str(type(FunOrNone))==\"<class 'function'>\" : \n",
    "        try:\n",
    "            iterator = iter(iterable)\n",
    "            for i in iterable:\n",
    "                a = FunOrNone(i)\n",
    "                if a == True:\n",
    "                    yield i       \n",
    "        except TypeError as te:\n",
    "            print(type(iterable), 'is not iterable')\n",
    "    elif FunOrNone==None:\n",
    "        try:\n",
    "            iterator = iter(iterable)\n",
    "            return iterable \n",
    "        except TypeError as te:\n",
    "            print(type(iterable), 'is not iterable')\n",
    "    else:\n",
    "        print('First argument should be function Or a None type')\n",
    "    "
   ]
  },
  {
   "cell_type": "code",
   "execution_count": 30,
   "id": "efec99d2",
   "metadata": {},
   "outputs": [
    {
     "data": {
      "text/plain": [
       "[2, 4, 6, 8]"
      ]
     },
     "execution_count": 30,
     "metadata": {},
     "output_type": "execute_result"
    }
   ],
   "source": [
    "nums = [1,2,3,4,5,6,7,8,9]\n",
    "evens = myfilter(lambda n: n%2==0,nums)\n",
    "list(evens)"
   ]
  },
  {
   "cell_type": "markdown",
   "id": "42c7d998",
   "metadata": {},
   "source": [
    "2. Implement List comprehensions to produce the following lists.\n",
    "Write List comprehensions to produce the following Lists\n",
    "['A', 'C', 'A', 'D', 'G', 'I', ’L’, ‘ D’]\n",
    "['x', 'xx', 'xxx', 'xxxx', 'y', 'yy', 'yyy', 'yyyy', 'z', 'zz', 'zzz', 'zzzz']\n",
    "['x', 'y', 'z', 'xx', 'yy', 'zz', 'xxx', 'yyy', 'zzz', 'xxxx', 'yyyy', 'zzzz']\n",
    "[[2], [3], [4], [3], [4], [5], [4], [5], [6]] [[2, 3, 4, 5], [3, 4, 5, 6],\n",
    "[4, 5, 6, 7], [5, 6, 7, 8]]\n",
    "[(1, 1), (2, 1), (3, 1), (1, 2), (2, 2), (3, 2), (1, 3), (2, 3), (3, 3)]"
   ]
  },
  {
   "cell_type": "code",
   "execution_count": 2,
   "id": "8634d87e",
   "metadata": {},
   "outputs": [],
   "source": [
    "l =['A', 'C', 'A', 'D', 'G', 'I', 'L', 'D'] "
   ]
  },
  {
   "cell_type": "code",
   "execution_count": 3,
   "id": "e3b1eebf",
   "metadata": {},
   "outputs": [
    {
     "data": {
      "text/plain": [
       "['A', 'C', 'A', 'D', 'G', 'I', 'L', 'D']"
      ]
     },
     "execution_count": 3,
     "metadata": {},
     "output_type": "execute_result"
    }
   ],
   "source": [
    "[i for i in l]"
   ]
  },
  {
   "cell_type": "code",
   "execution_count": 4,
   "id": "9ccb6765",
   "metadata": {},
   "outputs": [],
   "source": [
    "l1=['x','y','z']"
   ]
  },
  {
   "cell_type": "markdown",
   "id": "0ce2d19e",
   "metadata": {},
   "source": [
    "['x', 'xx', 'xxx', 'xxxx', 'y', 'yy', 'yyy', 'yyyy', 'z', 'zz', 'zzz', 'zzzz']"
   ]
  },
  {
   "cell_type": "code",
   "execution_count": 7,
   "id": "c6baa9f7",
   "metadata": {},
   "outputs": [
    {
     "data": {
      "text/plain": [
       "['x', 'xx', 'xxx', 'xxxx', 'y', 'yy', 'yyy', 'yyyy', 'z', 'zz', 'zzz', 'zzzz']"
      ]
     },
     "execution_count": 7,
     "metadata": {},
     "output_type": "execute_result"
    }
   ],
   "source": [
    "[i*j for j in l1 for i in range(1,5)]"
   ]
  },
  {
   "cell_type": "markdown",
   "id": "e08bce85",
   "metadata": {},
   "source": [
    "['x', 'y', 'z', 'xx', 'yy', 'zz', 'xxx', 'yyy', 'zzz', 'xxxx', 'yyyy', 'zzzz']"
   ]
  },
  {
   "cell_type": "code",
   "execution_count": 8,
   "id": "ee5faf51",
   "metadata": {},
   "outputs": [
    {
     "data": {
      "text/plain": [
       "['x', 'y', 'z', 'xx', 'yy', 'zz', 'xxx', 'yyy', 'zzz', 'xxxx', 'yyyy', 'zzzz']"
      ]
     },
     "execution_count": 8,
     "metadata": {},
     "output_type": "execute_result"
    }
   ],
   "source": [
    "[i*j for i in range(1,5) for j in l1]"
   ]
  },
  {
   "cell_type": "code",
   "execution_count": 33,
   "id": "0bcd1219",
   "metadata": {},
   "outputs": [
    {
     "data": {
      "text/plain": [
       "[[[2], [3], [4], [3], [4], [5], [4], [5], [6]],\n",
       " [[3, 4, 5, 6], [4, 5, 6, 7], [5, 6, 7, 8]]]"
      ]
     },
     "execution_count": 33,
     "metadata": {},
     "output_type": "execute_result"
    }
   ],
   "source": [
    "l1=[[i+j] for j in range(2,5) for i in range(3)]\n",
    "l2=[[i+j for j in range(3,7) ]for i in range(3)]\n",
    "l3=[]\n",
    "l3.insert(0,l1)\n",
    "l3.insert(1,l2)\n",
    "l3"
   ]
  },
  {
   "cell_type": "markdown",
   "id": "609c5314",
   "metadata": {},
   "source": [
    "## To print [(1, 1), (2, 1), (3, 1), (1, 2), (2, 2), (3, 2), (1, 3), (2, 3), (3, 3)]"
   ]
  },
  {
   "cell_type": "code",
   "execution_count": 17,
   "id": "4812d119",
   "metadata": {},
   "outputs": [
    {
     "data": {
      "text/plain": [
       "[(1, 1), (2, 1), (3, 1), (1, 2), (2, 2), (3, 2), (1, 3), (2, 3), (3, 3)]"
      ]
     },
     "execution_count": 17,
     "metadata": {},
     "output_type": "execute_result"
    }
   ],
   "source": [
    "l1=[(i,j) for i in range(1,4) for j in range(1,2) ]\n",
    "l2=[(i,j) for i in range(1,4) for j in range(2,3)]\n",
    "l3=[(i,j) for i in range(1,4) for j in range(3,4)]\n",
    "l1+l2+l3"
   ]
  },
  {
   "cell_type": "code",
   "execution_count": null,
   "id": "be7c27dd",
   "metadata": {},
   "outputs": [],
   "source": []
  }
 ],
 "metadata": {
  "kernelspec": {
   "display_name": "Python 3 (ipykernel)",
   "language": "python",
   "name": "python3"
  },
  "language_info": {
   "codemirror_mode": {
    "name": "ipython",
    "version": 3
   },
   "file_extension": ".py",
   "mimetype": "text/x-python",
   "name": "python",
   "nbconvert_exporter": "python",
   "pygments_lexer": "ipython3",
   "version": "3.7.4"
  }
 },
 "nbformat": 4,
 "nbformat_minor": 5
}
