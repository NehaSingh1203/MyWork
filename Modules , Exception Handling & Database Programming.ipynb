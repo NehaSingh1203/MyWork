{
 "cells": [
  {
   "cell_type": "markdown",
   "id": "2b7b6400",
   "metadata": {},
   "source": [
    "1. Write a function to compute 5/0 and use try/except to catch the exceptions."
   ]
  },
  {
   "cell_type": "code",
   "execution_count": 6,
   "id": "ff731b1b",
   "metadata": {},
   "outputs": [],
   "source": [
    "def DivisionByZero (a,b):\n",
    "    a=5\n",
    "    b=0\n",
    "    try:\n",
    "        c=a/b\n",
    "    except:\n",
    "        print('Divison by Zero error')"
   ]
  },
  {
   "cell_type": "code",
   "execution_count": 7,
   "id": "4aa73cde",
   "metadata": {},
   "outputs": [
    {
     "name": "stdout",
     "output_type": "stream",
     "text": [
      "Divison by Zero error\n"
     ]
    }
   ],
   "source": [
    "DivisionByZero(5,0)"
   ]
  },
  {
   "cell_type": "code",
   "execution_count": 7,
   "id": "5bff2629",
   "metadata": {},
   "outputs": [],
   "source": [
    "subjects=[\"Americans\",\"Indians\"] \n",
    "verbs=[\"play\",\"watch\"] \n",
    "objects=[\"Baseball\",\"Cricket\"] \n"
   ]
  },
  {
   "cell_type": "markdown",
   "id": "897f3b84",
   "metadata": {},
   "source": [
    "Americans play Baseball. \n",
    "Americans play Cricket. \n",
    "Americans watch Baseball. \n",
    "Americans watch Cricket. \n",
    "Indians play Baseball. \n",
    "Indians play Cricket. \n",
    "Indians watch Baseball. \n",
    "Indians watch Cricket\n"
   ]
  },
  {
   "cell_type": "code",
   "execution_count": 10,
   "id": "5687869b",
   "metadata": {},
   "outputs": [
    {
     "name": "stdout",
     "output_type": "stream",
     "text": [
      "Americans  play Baseball\n",
      "Americans  play Cricket\n",
      "Americans  watch Baseball\n",
      "Americans  watch Cricket\n",
      "Indians  play Baseball\n",
      "Indians  play Cricket\n",
      "Indians  watch Baseball\n",
      "Indians  watch Cricket\n"
     ]
    }
   ],
   "source": [
    "for i in range(0,2):\n",
    "    for j in range(0,2):\n",
    "        for k in range(0,2):   \n",
    "            print(subjects[i] + ' ' + ' '+ verbs[j] + ' ' +  objects[k])\n",
    "    \n",
    "    "
   ]
  },
  {
   "cell_type": "code",
   "execution_count": null,
   "id": "738a1fd7",
   "metadata": {},
   "outputs": [],
   "source": []
  }
 ],
 "metadata": {
  "kernelspec": {
   "display_name": "Python 3 (ipykernel)",
   "language": "python",
   "name": "python3"
  },
  "language_info": {
   "codemirror_mode": {
    "name": "ipython",
    "version": 3
   },
   "file_extension": ".py",
   "mimetype": "text/x-python",
   "name": "python",
   "nbconvert_exporter": "python",
   "pygments_lexer": "ipython3",
   "version": "3.7.4"
  }
 },
 "nbformat": 4,
 "nbformat_minor": 5
}
