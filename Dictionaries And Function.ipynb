{
 "cells": [
  {
   "cell_type": "markdown",
   "id": "9cdb7b4b",
   "metadata": {},
   "source": [
    "1.1 Write a Python Program(with class concepts) to find the area of the triangle using the below  formula. \n",
    "area = (s*(s-a)*(s-b)*(s-c)) ** 0.5 \n",
    "Function to take the length of the sides of triangle from user should be defined in the parent  class and function to calculate the area should be defined in subclass.\n"
   ]
  },
  {
   "cell_type": "code",
   "execution_count": 10,
   "id": "9a8fba0c",
   "metadata": {},
   "outputs": [],
   "source": [
    "class Triangle:\n",
    "    def __init__(self):\n",
    "        self.a = float(input('Enter first side of a traingle : a: '))\n",
    "        self.b = float(input('Enter first side of a traingle : b: '))\n",
    "        self.c = float(input('Enter first side of a traingle : c: '))\n",
    "        \n",
    "        "
   ]
  },
  {
   "cell_type": "code",
   "execution_count": 42,
   "id": "d434dc28",
   "metadata": {},
   "outputs": [],
   "source": [
    "class AreaOfTriangle(Triangle):\n",
    "    def area(self):    \n",
    "        s = (self.a + self.b + self.c )/2\n",
    "        area = (s*((s-self.a)*(s-self.b)*(s-self.c))) * 0.5\n",
    "        print('Area of Triangle is :',area)"
   ]
  },
  {
   "cell_type": "code",
   "execution_count": 43,
   "id": "dbc06b77",
   "metadata": {},
   "outputs": [
    {
     "name": "stdout",
     "output_type": "stream",
     "text": [
      "Enter first side of a traingle : a: 2\n",
      "Enter first side of a traingle : b: 3\n",
      "Enter first side of a traingle : c: 4\n",
      "Area of Triangle is : 4.21875\n"
     ]
    }
   ],
   "source": [
    "area = AreaOfTriangle()\n",
    "area.area()"
   ]
  },
  {
   "cell_type": "markdown",
   "id": "d02c6e84",
   "metadata": {},
   "source": [
    "1.2 Write a function filter_long_words() that takes a list of words and an integer n and returns  the list of words that are longer than n. "
   ]
  },
  {
   "cell_type": "code",
   "execution_count": 46,
   "id": "79a95abb",
   "metadata": {},
   "outputs": [],
   "source": [
    "def filter_long_words(l,n):\n",
    "    l1=[]\n",
    "    for i in l:\n",
    "        if i>n:\n",
    "            l1.append(i)\n",
    "    return l1"
   ]
  },
  {
   "cell_type": "code",
   "execution_count": 47,
   "id": "6a4ad782",
   "metadata": {},
   "outputs": [
    {
     "data": {
      "text/plain": [
       "[11, 22]"
      ]
     },
     "execution_count": 47,
     "metadata": {},
     "output_type": "execute_result"
    }
   ],
   "source": [
    "filter_long_words([11,22,3,4],4)"
   ]
  },
  {
   "cell_type": "markdown",
   "id": "d4873f9c",
   "metadata": {},
   "source": [
    "2.1 Write a Python program using function concept that maps list of words into a list of integers  representing the lengths of the corresponding words. \n",
    "Hint: If a list [ ab,cde,erty] is passed on to the python function output should come as [2,3,4] Here 2,3 and 4 are the lengths of the words in the list"
   ]
  },
  {
   "cell_type": "code",
   "execution_count": 51,
   "id": "f587889b",
   "metadata": {},
   "outputs": [],
   "source": [
    "def LengthOfWordsInList(l):\n",
    "    l1=[]\n",
    "    for i in l:\n",
    "        l1.append(len(i))\n",
    "    return l1"
   ]
  },
  {
   "cell_type": "code",
   "execution_count": 52,
   "id": "5875dfcf",
   "metadata": {},
   "outputs": [
    {
     "data": {
      "text/plain": [
       "[2, 3, 4]"
      ]
     },
     "execution_count": 52,
     "metadata": {},
     "output_type": "execute_result"
    }
   ],
   "source": [
    "LengthOfWordsInList([ 'ab','cde','erty'])"
   ]
  },
  {
   "cell_type": "markdown",
   "id": "357823b0",
   "metadata": {},
   "source": [
    "2.2 Write a Python function which takes a character (i.e. a string of length 1) and returns True if  it is a vowel, False otherwise. "
   ]
  },
  {
   "cell_type": "code",
   "execution_count": 81,
   "id": "f76fe52f",
   "metadata": {},
   "outputs": [],
   "source": [
    "def CheckVowel():\n",
    "    ch=''\n",
    "    vowel=['a','e','i','o','u']\n",
    "    while True: \n",
    "        ch = input('Enter a character')\n",
    "        if len(ch)==1:\n",
    "            break\n",
    "        print('Only one character is allowed')\n",
    "    ch = ch.lower()\n",
    "    if ch in vowel:\n",
    "        return True\n",
    "    else:\n",
    "        return False\n"
   ]
  },
  {
   "cell_type": "code",
   "execution_count": 83,
   "id": "91c53f26",
   "metadata": {},
   "outputs": [
    {
     "name": "stdout",
     "output_type": "stream",
     "text": [
      "Enter a characterA\n"
     ]
    },
    {
     "data": {
      "text/plain": [
       "True"
      ]
     },
     "execution_count": 83,
     "metadata": {},
     "output_type": "execute_result"
    }
   ],
   "source": [
    "CheckVowel()"
   ]
  },
  {
   "cell_type": "code",
   "execution_count": null,
   "id": "f51bd291",
   "metadata": {},
   "outputs": [],
   "source": []
  }
 ],
 "metadata": {
  "kernelspec": {
   "display_name": "Python 3",
   "language": "python",
   "name": "python3"
  },
  "language_info": {
   "codemirror_mode": {
    "name": "ipython",
    "version": 3
   },
   "file_extension": ".py",
   "mimetype": "text/x-python",
   "name": "python",
   "nbconvert_exporter": "python",
   "pygments_lexer": "ipython3",
   "version": "3.7.6"
  }
 },
 "nbformat": 4,
 "nbformat_minor": 5
}
