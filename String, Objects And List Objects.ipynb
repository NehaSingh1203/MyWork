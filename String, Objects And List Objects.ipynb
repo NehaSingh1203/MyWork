{
 "cells": [
  {
   "cell_type": "markdown",
   "id": "5e2fa0e9",
   "metadata": {},
   "source": [
    "1. Create the below pattern using nested for loop in Python. "
   ]
  },
  {
   "cell_type": "markdown",
   "id": "ce8adeb4",
   "metadata": {},
   "source": [
    "* \n",
    "* * \n",
    "* * * \n",
    "* * * * \n",
    "* * * * * \n",
    "* * * * \n",
    "* * * \n",
    "* * \n",
    "* \n"
   ]
  },
  {
   "cell_type": "code",
   "execution_count": 1,
   "id": "8bfc7b63",
   "metadata": {},
   "outputs": [
    {
     "name": "stdout",
     "output_type": "stream",
     "text": [
      "Enter number5\n",
      "\n",
      "*\n",
      "**\n",
      "***\n",
      "****\n",
      "*****\n",
      "****\n",
      "***\n",
      "**\n",
      "*\n",
      "\n"
     ]
    }
   ],
   "source": [
    "number = int(input('Enter number'))\n",
    "for i in range(0,number+1):\n",
    "    for j in range(0,i):\n",
    "        print('*',end='')\n",
    "    print()\n",
    "for i in range(0,number):\n",
    "    for k in range(i,number-1):\n",
    "        print('*',end='')\n",
    "    print()"
   ]
  },
  {
   "cell_type": "markdown",
   "id": "9ad7871a",
   "metadata": {},
   "source": [
    "2. Write a Python program to reverse a word after accepting the input from the user. Sample Output: \n",
    "Input word: ineuron \n",
    "Output: norueni\n",
    "    \n",
    "        \n",
    " \n",
    "    "
   ]
  },
  {
   "cell_type": "code",
   "execution_count": 4,
   "id": "7adf1e2d",
   "metadata": {},
   "outputs": [
    {
     "name": "stdout",
     "output_type": "stream",
     "text": [
      "ineuron\n",
      "Input word:  ineuron\n",
      "Output:  norueni\n"
     ]
    }
   ],
   "source": [
    "name = input()\n",
    "print('Input word: ',name)\n",
    "print('Output: ',name[::-1])\n"
   ]
  },
  {
   "cell_type": "markdown",
   "id": "223e3e75",
   "metadata": {},
   "source": [
    "1. Write a program which accepts a sequence of comma-separated numbers from console  and generate a list. "
   ]
  },
  {
   "cell_type": "code",
   "execution_count": 10,
   "id": "ed4c2fac",
   "metadata": {},
   "outputs": [
    {
     "name": "stdout",
     "output_type": "stream",
     "text": [
      "1,2,3,4\n",
      "['1', '2', '3', '4']\n"
     ]
    }
   ],
   "source": [
    "x =input()\n",
    "l=x.split(',')\n",
    "print(l)"
   ]
  },
  {
   "cell_type": "code",
   "execution_count": null,
   "id": "b8ce1a69",
   "metadata": {},
   "outputs": [],
   "source": []
  }
 ],
 "metadata": {
  "kernelspec": {
   "display_name": "Python 3",
   "language": "python",
   "name": "python3"
  },
  "language_info": {
   "codemirror_mode": {
    "name": "ipython",
    "version": 3
   },
   "file_extension": ".py",
   "mimetype": "text/x-python",
   "name": "python",
   "nbconvert_exporter": "python",
   "pygments_lexer": "ipython3",
   "version": "3.7.6"
  }
 },
 "nbformat": 4,
 "nbformat_minor": 5
}
